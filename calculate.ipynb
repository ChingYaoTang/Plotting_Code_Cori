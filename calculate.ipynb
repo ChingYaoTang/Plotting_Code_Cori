{
 "cells": [
  {
   "cell_type": "code",
   "execution_count": 1,
   "metadata": {},
   "outputs": [],
   "source": [
    "## Import packages\n",
    "import numpy as np\n",
    "#import scipy.stats as stats\n",
    "import matplotlib.pyplot as plt\n",
    "\n",
    "## Matplotlib settings\n",
    "plt.rcParams['lines.linewidth'] = 1.5\n",
    "plt.rcParams['font.size'] = 16\n",
    "plt.rcParams['axes.grid'] = True\n",
    "plt.rcParams['xtick.direction'] = 'in'\n",
    "plt.rcParams['ytick.direction'] = 'in'\n",
    "plt.rcParams['grid.alpha'] = 0.4\n",
    "plt.rcParams['figure.figsize'] = (8, 8)"
   ]
  },
  {
   "cell_type": "code",
   "execution_count": 2,
   "metadata": {},
   "outputs": [
    {
     "name": "stdout",
     "output_type": "stream",
     "text": [
      "G= 6.67408e-08 (cm^3/g/s^2)\n"
     ]
    }
   ],
   "source": [
    "## gravity constant\n",
    "G = 6.67408e-11*1e6*1e-3 # cm^3/g/s^2\n",
    "print(\"G=\",G,\"(cm^3/g/s^2)\")\n",
    "kb = 1.380649e-16 # erg/K\n",
    "\n",
    "pc_cm   = 3.0856775809623245e+18 # 1 pc in cm\n",
    "yr_s    = 3.15576e+13  # 3.1557e+13 s = 1 Myrs\n",
    "Msun_g  = 1.98841586e+33 # 1 Msun in g\n",
    "\n",
    "mh      = 1.67262192369e-24 # g\n",
    "H_cc    = 1.673e-24    # 1.673e-24 g/cm^3 = 1 H/cc"
   ]
  },
  {
   "cell_type": "code",
   "execution_count": 4,
   "metadata": {},
   "outputs": [
    {
     "name": "stdout",
     "output_type": "stream",
     "text": [
      "L = 3.085677580962325e+20 (cm)  = 100 (pc)\n",
      "D = 1.6729999999999999e-25 (g/cm^3)  = 0.1 (n_H)\n",
      "T = 3.15576e+19 (s)  = 1 (Myrs)\n",
      "R_core of DM = 1.5428387904811622e+19 (cm)  = 5.0 (pc)\n",
      "M_core of DM = 3.97683172e+38 (g)  = 200000.0 (M_sun)\n",
      "================================================\n",
      "D of cloud = 100.0 (n_H)\n",
      "M of cloud = 10000.0 (M_sun)\n",
      "R of cloud = 9.88455246592859 (pc)\n"
     ]
    }
   ],
   "source": [
    "## box size\n",
    "LL = 100 # pc\n",
    "L = LL*pc_cm\n",
    "print(\"L =\", L, \"(cm)\", \" =\", LL, \"(pc)\")\n",
    "\n",
    "## background density\n",
    "DD = 0.1 # H per cc\n",
    "D = DD*H_cc\n",
    "print(\"D =\", D, \"(g/cm^3)\", \" =\", DD, \"(n_H)\")\n",
    "\n",
    "## time unit\n",
    "TT = 1 # Myrs\n",
    "T = TT*1e6*yr_s\n",
    "print(\"T =\", T, \"(s)\", \" =\", TT, \"(Myrs)\")\n",
    "\n",
    "# radius of DM core\n",
    "Rcore = 5 * pc_cm\n",
    "print(\"R_core of DM =\", Rcore, \"(cm)\", \" =\", Rcore/pc_cm, \"(pc)\")\n",
    "\n",
    "# mass of DM core\n",
    "Mcore = 2e5 * Msun_g\n",
    "print(\"M_core of DM =\", Mcore, \"(g)\", \" =\", Mcore/Msun_g, \"(M_sun)\")\n",
    "\n",
    "print(\"================================================\")\n",
    "# density of cloud\n",
    "Dcl = D * 1000\n",
    "print(\"D of cloud =\", Dcl/H_cc, \"(n_H)\")\n",
    "\n",
    "# mass of the cloud\n",
    "Mcl = 1e4*Msun_g\n",
    "print(\"M of cloud =\", Mcl/Msun_g,\"(M_sun)\")\n",
    "\n",
    "# radius of cloud\n",
    "Rcl = (Mcl * 3/(4*np.pi*Dcl))**(1/3)\n",
    "print(\"R of cloud =\", Rcl/pc_cm, \"(pc)\")"
   ]
  },
  {
   "cell_type": "code",
   "execution_count": 4,
   "metadata": {},
   "outputs": [
    {
     "data": {
      "text/plain": [
       "0.00013972966979350346"
      ]
     },
     "execution_count": 4,
     "metadata": {},
     "output_type": "execute_result"
    }
   ],
   "source": [
    "# a = GM/r^2, dim-less const -> 4Pi*GM/a/r^2 = 4Pi*GDr/a = 4Pi*G*D*T^2\n",
    "4*np.pi*G*D*T*T"
   ]
  },
  {
   "cell_type": "code",
   "execution_count": 14,
   "metadata": {},
   "outputs": [],
   "source": [
    "def rho_NFW(r):\n",
    "    global Rcore, Mcore\n",
    "    rho_0 = Mcore/np.power(Rcore,3)/(4*np.pi*(np.log(2)-1/2))\n",
    "    x = r/Rcore\n",
    "    return rho_0/(x*np.power(1+x,2))"
   ]
  },
  {
   "cell_type": "code",
   "execution_count": 9,
   "metadata": {},
   "outputs": [],
   "source": [
    "# mass enclosed r\n",
    "def Menc(r):\n",
    "    global Mcore\n",
    "    x = r/Rcore\n",
    "    return Mcore*((np.log(1+x)-x/(1+x))/(np.log(1+1)-1/(1+1)))"
   ]
  },
  {
   "cell_type": "code",
   "execution_count": 10,
   "metadata": {},
   "outputs": [],
   "source": [
    "# acc at radius r computed for NFW\n",
    "# a = GM/r^2\n",
    "def a(r):\n",
    "    global Rcore, Mcore, G\n",
    "    \n",
    "    return G*Menc(r)/r/r"
   ]
  },
  {
   "cell_type": "code",
   "execution_count": 13,
   "metadata": {},
   "outputs": [
    {
     "name": "stdout",
     "output_type": "stream",
     "text": [
      "Mtot = 1541626.8147340575 (M_sun)\n"
     ]
    }
   ],
   "source": [
    "print(\"Mtot =\",Menc(50*pc)/Msun, \"(M_sun)\")"
   ]
  },
  {
   "cell_type": "code",
   "execution_count": 38,
   "metadata": {},
   "outputs": [],
   "source": [
    "# list of radius\n",
    "rlist=np.logspace(-10,10,1000)*Rcore\n",
    "#print(rlist)"
   ]
  },
  {
   "cell_type": "code",
   "execution_count": 39,
   "metadata": {},
   "outputs": [
    {
     "data": {
      "text/plain": [
       "Text(0.5, 1.0, 'NFW density porfile')"
      ]
     },
     "execution_count": 39,
     "metadata": {},
     "output_type": "execute_result"
    },
    {
     "data": {
      "image/png": "[encoded data removed]",
      "text/plain": [
       "<Figure size 576x576 with 1 Axes>"
      ]
     },
     "metadata": {
      "needs_background": "light"
     },
     "output_type": "display_data"
    }
   ],
   "source": [
    "plt.loglog(rlist,rho_NFW(rlist))\n",
    "plt.title(\"NFW density porfile\")"
   ]
  },
  {
   "cell_type": "code",
   "execution_count": 40,
   "metadata": {},
   "outputs": [
    {
     "data": {
      "text/plain": [
       "Text(0.5, 1.0, 'NFW mass enclosed porfile')"
      ]
     },
     "execution_count": 40,
     "metadata": {},
     "output_type": "execute_result"
    },
    {
     "data": {
      "image/png": "[encoded data removed]",
      "text/plain": [
       "<Figure size 576x576 with 1 Axes>"
      ]
     },
     "metadata": {
      "needs_background": "light"
     },
     "output_type": "display_data"
    }
   ],
   "source": [
    "plt.loglog(rlist,Menc(rlist),\".\")\n",
    "plt.title(\"NFW mass enclosed porfile\")"
   ]
  },
  {
   "cell_type": "code",
   "execution_count": 41,
   "metadata": {},
   "outputs": [
    {
     "data": {
      "text/plain": [
       "Text(0.5, 1.0, 'NFW acc porfile')"
      ]
     },
     "execution_count": 41,
     "metadata": {},
     "output_type": "execute_result"
    },
    {
     "data": {
      "image/png": "[encoded data removed]",
      "text/plain": [
       "<Figure size 576x576 with 1 Axes>"
      ]
     },
     "metadata": {
      "needs_background": "light"
     },
     "output_type": "display_data"
    }
   ],
   "source": [
    "plt.loglog(rlist,a(rlist),\".\")\n",
    "plt.title(\"NFW acc porfile\")"
   ]
  },
  {
   "cell_type": "code",
   "execution_count": 108,
   "metadata": {
    "collapsed": true,
    "jupyter": {
     "outputs_hidden": true
    }
   },
   "outputs": [
    {
     "data": {
      "text/plain": [
       "(array([  3,   4,   5,  10,  12,  15,  17,  18,  19,  20,  23,  24,  25,\n",
       "         26,  28,  29,  32,  35,  36,  37,  38,  43,  46,  48,  49,  50,\n",
       "         52,  54,  55,  56,  58,  59,  64,  66,  70,  71,  72,  74,  75,\n",
       "         77,  78,  79,  81,  83,  84,  89,  92,  93,  95,  96,  97, 100,\n",
       "        103, 105, 108, 109, 110, 111, 112, 115, 116, 118, 121, 126, 128,\n",
       "        129, 131, 132, 136, 137, 138, 139, 141, 142, 143, 146, 148, 154,\n",
       "        157, 161, 162, 165, 166, 167, 168, 170, 171, 175, 176, 177, 178,\n",
       "        183, 184, 185, 188, 191, 193, 196, 205, 206, 213, 214, 219, 220,\n",
       "        221, 224, 227, 231, 234, 238, 239, 240, 241, 247, 253, 254, 258,\n",
       "        259, 261, 262, 271, 273, 276, 277, 279, 283, 285, 288, 289, 290,\n",
       "        291, 293, 297, 299, 300, 302, 304, 307, 313]),)"
      ]
     },
     "execution_count": 108,
     "metadata": {},
     "output_type": "execute_result"
    }
   ],
   "source": [
    "np.where(a(rlist)<0)"
   ]
  },
  {
   "cell_type": "code",
   "execution_count": 109,
   "metadata": {
    "collapsed": true,
    "jupyter": {
     "outputs_hidden": true
    }
   },
   "outputs": [
    {
     "data": {
      "text/plain": [
       "array([6.75184922e+06, 6.95722018e+06, 7.16883791e+06, 8.32748437e+06,\n",
       "       8.84178301e+06, 9.67339432e+06, 1.02708153e+07, 1.05832226e+07,\n",
       "       1.09051324e+07, 1.12368338e+07, 1.22937109e+07, 1.26676486e+07,\n",
       "       1.30529604e+07, 1.34499923e+07, 1.42806528e+07, 1.47150273e+07,\n",
       "       1.60990449e+07, 1.76132359e+07, 1.81489776e+07, 1.87010150e+07,\n",
       "       1.92698436e+07, 2.23842865e+07, 2.44896340e+07, 2.60020938e+07,\n",
       "       2.67929994e+07, 2.76079619e+07, 2.93130071e+07, 3.11233545e+07,\n",
       "       3.20700334e+07, 3.30455074e+07, 3.50863710e+07, 3.61535929e+07,\n",
       "       4.19968318e+07, 4.45905219e+07, 5.02683473e+07, 5.17973594e+07,\n",
       "       5.33728794e+07, 5.66691449e+07, 5.83928499e+07, 6.19991447e+07,\n",
       "       6.38849724e+07, 6.58281612e+07, 6.98936547e+07, 7.42102298e+07,\n",
       "       7.64674820e+07, 8.88263577e+07, 9.71808948e+07, 1.00136846e+08,\n",
       "       1.06321215e+08, 1.09555187e+08, 1.12887527e+08, 1.23505130e+08,\n",
       "       1.35121369e+08, 1.43466354e+08, 1.56960040e+08, 1.61734293e+08,\n",
       "       1.66653764e+08, 1.71722871e+08, 1.76946165e+08, 1.93588784e+08,\n",
       "       1.99477173e+08, 2.11796721e+08, 2.31717199e+08, 2.69167943e+08,\n",
       "       2.85791536e+08, 2.94484455e+08, 3.12671575e+08, 3.22182104e+08,\n",
       "       3.63206378e+08, 3.74254024e+08, 3.85637707e+08, 3.97367647e+08,\n",
       "       4.21908749e+08, 4.34741945e+08, 4.47965489e+08, 4.90098751e+08,\n",
       "       5.20366850e+08, 6.22856069e+08, 6.81438614e+08, 7.68207939e+08,\n",
       "       7.91574516e+08, 8.66025826e+08, 8.92367729e+08, 9.19510874e+08,\n",
       "       9.47479631e+08, 1.00599520e+09, 1.03659455e+09, 1.16858679e+09,\n",
       "       1.20413169e+09, 1.24075776e+09, 1.27849788e+09, 1.48513207e+09,\n",
       "       1.53030533e+09, 1.57685262e+09, 1.72516303e+09, 1.88742273e+09,\n",
       "       2.00398842e+09, 2.19247296e+09, 2.87112013e+09, 2.95845097e+09,\n",
       "       3.64884544e+09, 3.75983236e+09, 4.36750636e+09, 4.50035278e+09,\n",
       "       4.63723999e+09, 5.07339424e+09, 5.55057084e+09, 6.25733926e+09,\n",
       "       6.84587147e+09, 7.71757384e+09, 7.95231924e+09, 8.19420490e+09,\n",
       "       8.44344799e+09, 1.01064332e+10, 1.20969529e+10, 1.24649058e+10,\n",
       "       1.40520942e+10, 1.44795167e+10, 1.53737598e+10, 1.58413834e+10,\n",
       "       2.07448464e+10, 2.20260311e+10, 2.40976830e+10, 2.48306621e+10,\n",
       "       2.63641836e+10, 2.97212026e+10, 3.15567599e+10, 3.45248217e+10,\n",
       "       3.55749630e+10, 3.66570465e+10, 3.77720437e+10, 4.01048142e+10,\n",
       "       4.52114630e+10, 4.80036861e+10, 4.94638140e+10, 5.25186587e+10,\n",
       "       5.57621682e+10, 6.10068626e+10, 7.30225121e+10])"
      ]
     },
     "execution_count": 109,
     "metadata": {},
     "output_type": "execute_result"
    }
   ],
   "source": [
    "rlist[np.where(a(rlist)<0)]"
   ]
  },
  {
   "cell_type": "code",
   "execution_count": 110,
   "metadata": {
    "collapsed": true,
    "jupyter": {
     "outputs_hidden": true
    }
   },
   "outputs": [
    {
     "data": {
      "text/plain": [
       "array([-6.17201275e+01, -1.71875262e+01, -1.43501751e+02, -2.05794286e+00,\n",
       "       -6.25617514e+01, -3.12477498e+01, -2.33651950e+01, -1.93205686e+01,\n",
       "       -7.25886669e+00, -1.41084754e+01, -3.79977731e+01, -2.45949046e+01,\n",
       "       -3.95167896e+01, -1.48879650e+01, -2.64728119e+01, -2.39649464e+01,\n",
       "       -1.95168296e+01, -1.56105765e+01, -1.28163453e+01, -5.57320817e+00,\n",
       "       -9.54850655e+00, -2.23702909e-01, -9.96649449e+00, -2.57847338e+00,\n",
       "       -5.95644485e+00, -3.59841720e-02, -4.69195346e+00, -5.84787613e+00,\n",
       "       -3.16448161e+00, -9.59898480e-01, -4.90455381e+00, -2.38660061e+00,\n",
       "       -2.83254545e+00, -6.23835052e-01, -2.97890764e+00, -1.67729131e+00,\n",
       "       -1.92010994e-01, -2.35937877e+00, -1.68287135e+00, -3.23773614e-01,\n",
       "       -1.01165305e+00, -1.12373135e+00, -3.95018181e-01, -4.47286074e-01,\n",
       "       -1.04052380e+00, -6.36851666e-01, -1.29932334e-01, -2.97232910e-01,\n",
       "       -3.50594051e-01, -3.32366949e-01, -5.65992418e-02, -2.78621662e-01,\n",
       "       -2.23450534e-01, -3.56855078e-02, -6.82793559e-02, -7.99363627e-02,\n",
       "       -7.55139779e-02, -1.73298442e-01, -2.47484429e-02, -2.35074076e-02,\n",
       "       -4.95491180e-02, -1.22389733e-01, -1.12291724e-01, -4.20466418e-02,\n",
       "       -6.00369075e-02, -1.46241094e-03, -1.85934478e-02, -6.75885243e-02,\n",
       "       -6.86156524e-03, -1.26437134e-02, -4.06688667e-02, -3.47054188e-02,\n",
       "       -2.65162490e-02, -3.04294741e-02, -2.29390384e-02, -1.20723398e-02,\n",
       "       -2.45428364e-02, -1.11206808e-02, -2.93839562e-03, -7.57006038e-03,\n",
       "       -3.16240271e-03, -4.47424873e-03, -5.96255170e-03, -2.00421063e-03,\n",
       "       -6.87972455e-03, -5.04994960e-03, -4.44167799e-03, -9.94985376e-04,\n",
       "       -1.01772904e-03, -9.02269450e-04, -6.59257151e-04, -4.06552091e-04,\n",
       "       -2.55013851e-03, -2.64070837e-03, -2.28179480e-03, -8.94749483e-06,\n",
       "       -7.55643367e-04, -1.33427725e-03, -8.14134034e-04, -7.23073927e-04,\n",
       "       -7.81131699e-05, -1.47272166e-04, -2.05235335e-04, -2.79881010e-04,\n",
       "       -1.88359126e-04, -1.63448344e-04, -2.42398602e-04, -3.32654991e-05,\n",
       "       -1.36573580e-04, -2.87511792e-05, -8.44136170e-05, -4.73538274e-05,\n",
       "       -3.83776482e-05, -2.47648423e-05, -5.04616209e-05, -3.65963829e-05,\n",
       "       -2.95226096e-05, -2.57547210e-05, -1.57001333e-05, -5.96865871e-06,\n",
       "       -1.55630381e-05, -8.63679397e-06, -3.24520524e-06, -1.34047642e-06,\n",
       "       -8.64384749e-06, -3.41284207e-06, -2.35581951e-06, -1.21911438e-06,\n",
       "       -2.50984142e-06, -2.33883620e-06, -1.12583965e-06, -1.53486221e-06,\n",
       "       -3.86625553e-07, -4.36682503e-07, -1.37734996e-06, -1.68190592e-06,\n",
       "       -4.36351961e-07, -8.04774206e-07, -4.97543426e-07])"
      ]
     },
     "execution_count": 110,
     "metadata": {},
     "output_type": "execute_result"
    }
   ],
   "source": [
    "a(rlist)[np.where(a(rlist)<0)]"
   ]
  },
  {
   "cell_type": "markdown",
   "metadata": {},
   "source": [
    "# DM density profilw"
   ]
  },
  {
   "cell_type": "code",
   "execution_count": 4,
   "metadata": {},
   "outputs": [],
   "source": [
    "def NFW(r,rc,rho_0):\n",
    "    x = r/rc\n",
    "    return rho_0/(x*np.power(1+x,2))\n",
    "\n",
    "def Moore(r,rc,rho_0):\n",
    "    x = r/rc\n",
    "    return rho_0/(np.power(x,1.5)*np.power(1+x,1.5))\n",
    "\n",
    "def Iso(r,rc,rho_0):\n",
    "    x = r/rc\n",
    "    return rho_0/(np.power(1+x,2))\n",
    "\n",
    "def Burkert(r,rc,rho_0):\n",
    "    x = r/rc\n",
    "    return rho_0/((x+1)*(np.power(x,2)+1))\n",
    "\n",
    "def powerlaw(r,rc,p):\n",
    "    x = r/rc\n",
    "    return np.power(x,p)\n",
    "    "
   ]
  },
  {
   "cell_type": "code",
   "execution_count": 40,
   "metadata": {},
   "outputs": [],
   "source": [
    "r_arr = np.logspace(-3,3,1000)\n",
    "rho0 = 1\n",
    "rs = 1"
   ]
  },
  {
   "cell_type": "code",
   "execution_count": 53,
   "metadata": {},
   "outputs": [
    {
     "data": {
      "text/plain": [
       "Text(0, 0.5, 'rho')"
      ]
     },
     "execution_count": 53,
     "metadata": {},
     "output_type": "execute_result"
    },
    {
     "data": {
      "image/png": "[encoded data removed]",
      "text/plain": [
       "<Figure size 576x576 with 1 Axes>"
      ]
     },
     "metadata": {
      "needs_background": "light"
     },
     "output_type": "display_data"
    }
   ],
   "source": [
    "plt.loglog(r_arr, NFW(r_arr,rs,rho0), label='NFW')\n",
    "#plt.loglog(r_arr, Moore(r_arr,rs,rho0), label='Moore')\n",
    "plt.loglog(r_arr, Iso(r_arr,rs,rho0), 'k',label='Iso')\n",
    "plt.loglog(r_arr, Burkert(r_arr,rs,rho0), 'r', label='Burkert')\n",
    "#plt.loglog(r_arr, np.ones(r_arr.shape), 'b', label='unity')\n",
    "plt.loglog(r_arr, powerlaw(r_arr,rs,-1.5), 'b,',label='$r^{-1.5}$')\n",
    "plt.loglog(r_arr, powerlaw(r_arr,rs,-1),',', label='$r^{1}$')\n",
    "\n",
    "plt.legend(loc='upper right')\n",
    "plt.title(\"DM density porfiles\")\n",
    "plt.xlabel(\"r/rs\")\n",
    "plt.ylabel('rho')"
   ]
  },
  {
   "cell_type": "code",
   "execution_count": 7,
   "metadata": {},
   "outputs": [],
   "source": [
    "def Menc_NFW(r,rc,rho_0):\n",
    "    x = r/rc\n",
    "    return 4*np.pi*np.power(rc,3)*rho_0*(np.log(x+1)+1/(x+1)-1)\n",
    "def Menc_Burkert(r,rc,rho_0):\n",
    "    x = r/rc\n",
    "    return np.pi*np.power(rc,3)*rho_0*(np.log(x**2+1)+2*np.log(x+1)-2*np.arctan(x))\n",
    "    "
   ]
  },
  {
   "cell_type": "code",
   "execution_count": 6,
   "metadata": {},
   "outputs": [],
   "source": [
    "def a(r,rc,rho_0,f):\n",
    "    return f(r,rc,rho_0)/r/r"
   ]
  },
  {
   "cell_type": "code",
   "execution_count": 50,
   "metadata": {},
   "outputs": [
    {
     "data": {
      "text/plain": [
       "Text(0, 0.5, 'acc')"
      ]
     },
     "execution_count": 50,
     "metadata": {},
     "output_type": "execute_result"
    },
    {
     "data": {
      "image/png": "[encoded data removed]",
      "text/plain": [
       "<Figure size 576x576 with 1 Axes>"
      ]
     },
     "metadata": {
      "needs_background": "light"
     },
     "output_type": "display_data"
    }
   ],
   "source": [
    "plt.loglog(r_arr,a(r_arr,rs,rho0,Menc_NFW),label='NFW')\n",
    "plt.loglog(r_arr,a(r_arr,rs,rho0,Menc_Burkert),label='Burkert')\n",
    "plt.legend(loc='upper right')\n",
    "plt.title(\"DM acc porfile\")\n",
    "plt.xlabel(\"r/rs\")\n",
    "plt.ylabel(\"acc\")"
   ]
  },
  {
   "cell_type": "markdown",
   "metadata": {},
   "source": [
    "# Parameter of the halos in Greif 2012"
   ]
  },
  {
   "cell_type": "code",
   "execution_count": 8,
   "metadata": {},
   "outputs": [],
   "source": [
    "M_vir_Open    = 3e5 * Msun_g\n",
    "R_vir_Open    = 110 * pc_cm\n",
    "\n",
    "M_vir_Compact = 3.1e5 * Msun_g\n",
    "R_vir_Compact = 97 * pc_cm\n",
    "\n",
    "concentration = 20\n",
    "\n",
    "rho_0_Open    = M_vir_Open / np.power(R_vir_Open/concentration,3)/(4*np.pi * (np.log(1+concentration) - concentration/(1+concentration)))\n",
    "rho_0_Compact = M_vir_Compact / np.power(R_vir_Compact/concentration,3)/(4*np.pi * (np.log(1+concentration) - concentration/(1+concentration)))"
   ]
  },
  {
   "cell_type": "code",
   "execution_count": 13,
   "metadata": {},
   "outputs": [
    {
     "name": "stdout",
     "output_type": "stream",
     "text": [
      "5.507135915477695e+37 g;  1.6971226695292785e+19 cm\n"
     ]
    }
   ],
   "source": [
    "print(Menc_NFW(R_vir_Open/concentration, R_vir_Open/concentration, rho_0_Open), \"g; \", R_vir_Open/concentration, \"cm\")"
   ]
  },
  {
   "cell_type": "code",
   "execution_count": 14,
   "metadata": {},
   "outputs": [
    {
     "name": "stdout",
     "output_type": "stream",
     "text": [
      "5.690707112660285e+37 g;  1.4965536267667272e+19 cm\n"
     ]
    }
   ],
   "source": [
    "print(Menc_NFW(R_vir_Compact/concentration, R_vir_Compact/concentration, rho_0_Compact), \"g; \", R_vir_Compact/concentration, \"cm\")"
   ]
  },
  {
   "cell_type": "code",
   "execution_count": null,
   "metadata": {},
   "outputs": [],
   "source": []
  },
  {
   "cell_type": "code",
   "execution_count": 27,
   "metadata": {},
   "outputs": [
    {
     "name": "stdout",
     "output_type": "stream",
     "text": [
      "total DM mass = 1541626.8147340578 (M_sun) of the halo radius = 50 pc\n"
     ]
    }
   ],
   "source": [
    "print(\"total DM mass =\",Menc(50*pc)/Msun,\"(M_sun) of the halo radius =\", 50,\"pc\")"
   ]
  },
  {
   "cell_type": "code",
   "execution_count": 36,
   "metadata": {},
   "outputs": [
    {
     "name": "stdout",
     "output_type": "stream",
     "text": [
      "T_vir= 6748.672008488943\n"
     ]
    }
   ],
   "source": [
    "print(\"T_vir=\",1/3*G*Menc(50*pc)/k/(50*pc)*mH*2**(1/3))"
   ]
  },
  {
   "cell_type": "code",
   "execution_count": 8,
   "metadata": {},
   "outputs": [
    {
     "name": "stdout",
     "output_type": "stream",
     "text": [
      "sound speed= 1.284865732808313 km/s\n"
     ]
    }
   ],
   "source": [
    "print(\"sound speed=\", np.sqrt(k*200/mH)/100000,\"km/s\")"
   ]
  },
  {
   "cell_type": "code",
   "execution_count": null,
   "metadata": {},
   "outputs": [],
   "source": []
  },
  {
   "cell_type": "code",
   "execution_count": 86,
   "metadata": {},
   "outputs": [
    {
     "data": {
      "text/plain": [
       "-14423.418229749721"
      ]
     },
     "execution_count": 86,
     "metadata": {},
     "output_type": "execute_result"
    }
   ],
   "source": [
    "a(Rcore/1e+13)"
   ]
  },
  {
   "cell_type": "code",
   "execution_count": 104,
   "metadata": {},
   "outputs": [
    {
     "data": {
      "text/plain": [
       "-0.07099616813232046"
      ]
     },
     "execution_count": 104,
     "metadata": {},
     "output_type": "execute_result"
    }
   ],
   "source": [
    "a(6.34447526e+07)"
   ]
  },
  {
   "cell_type": "code",
   "execution_count": 111,
   "metadata": {},
   "outputs": [
    {
     "data": {
      "text/plain": [
       "6171400.0"
      ]
     },
     "execution_count": 111,
     "metadata": {},
     "output_type": "execute_result"
    }
   ],
   "source": [
    "Rcore/1e+12"
   ]
  },
  {
   "cell_type": "code",
   "execution_count": 2,
   "metadata": {},
   "outputs": [
    {
     "name": "stdout",
     "output_type": "stream",
     "text": [
      "Mcritical = 304672.19182042434 M_sun\n"
     ]
    }
   ],
   "source": [
    "print(\"Mcritical =\",1.36e5*(21/31)**-2.071,\"M_sun\")"
   ]
  },
  {
   "cell_type": "code",
   "execution_count": 11,
   "metadata": {},
   "outputs": [
    {
     "name": "stdout",
     "output_type": "stream",
     "text": [
      "0.08074534161490685\n"
     ]
    }
   ],
   "source": [
    "N_He=(0.26/4)/(0.26/4+0.74)\n",
    "print(N_He)"
   ]
  },
  {
   "cell_type": "code",
   "execution_count": 12,
   "metadata": {},
   "outputs": [
    {
     "name": "stdout",
     "output_type": "stream",
     "text": [
      "0.9192546583850932\n"
     ]
    }
   ],
   "source": [
    "N_H=(0.74)/(0.26/4+0.74)\n",
    "print(N_H)"
   ]
  },
  {
   "cell_type": "code",
   "execution_count": 13,
   "metadata": {},
   "outputs": [
    {
     "data": {
      "text/plain": [
       "1.2422360248447206"
      ]
     },
     "execution_count": 13,
     "metadata": {},
     "output_type": "execute_result"
    }
   ],
   "source": [
    "N_H+N_He*4"
   ]
  },
  {
   "cell_type": "code",
   "execution_count": 2,
   "metadata": {},
   "outputs": [
    {
     "name": "stdout",
     "output_type": "stream",
     "text": [
      "4.97830905710665e-05\n"
     ]
    }
   ],
   "source": [
    "f_H2_min=1.09e-5*(21/31)**-3.9\n",
    "print(f_H2_min)"
   ]
  },
  {
   "cell_type": "code",
   "execution_count": 3,
   "metadata": {},
   "outputs": [
    {
     "name": "stdout",
     "output_type": "stream",
     "text": [
      "0.0010978694518936453\n"
     ]
    }
   ],
   "source": [
    "f_H2_asymp=2.0e-3*(21/31)**1.54\n",
    "print(f_H2_asymp)"
   ]
  },
  {
   "cell_type": "code",
   "execution_count": null,
   "metadata": {},
   "outputs": [],
   "source": []
  },
  {
   "cell_type": "code",
   "execution_count": null,
   "metadata": {},
   "outputs": [],
   "source": []
  },
  {
   "cell_type": "markdown",
   "metadata": {},
   "source": [
    "# pg 27 mass requiremnt wrt collapse condition"
   ]
  },
  {
   "cell_type": "code",
   "execution_count": 55,
   "metadata": {},
   "outputs": [
    {
     "data": {
      "text/plain": [
       "341671.3618156149"
      ]
     },
     "execution_count": 55,
     "metadata": {},
     "output_type": "execute_result"
    }
   ],
   "source": [
    "1.905e5*(21/31)**(-3/2)"
   ]
  },
  {
   "cell_type": "markdown",
   "metadata": {},
   "source": [
    "# OverDensity Refinement"
   ]
  },
  {
   "cell_type": "code",
   "execution_count": 62,
   "metadata": {},
   "outputs": [
    {
     "data": {
      "text/plain": [
       "185363.80004736633"
      ]
     },
     "execution_count": 62,
     "metadata": {},
     "output_type": "execute_result"
    }
   ],
   "source": [
    "32*2**((3-0.5)*5)"
   ]
  },
  {
   "cell_type": "code",
   "execution_count": null,
   "metadata": {},
   "outputs": [],
   "source": []
  }
 ],
 "metadata": {
  "kernelspec": {
   "display_name": "YT-scipy",
   "language": "python",
   "name": "env_yt_scipy"
  },
  "language_info": {
   "codemirror_mode": {
    "name": "ipython",
    "version": 3
   },
   "file_extension": ".py",
   "mimetype": "text/x-python",
   "name": "python",
   "nbconvert_exporter": "python",
   "pygments_lexer": "ipython3",
   "version": "3.8.0"
  }
 },
 "nbformat": 4,
 "nbformat_minor": 4
}
